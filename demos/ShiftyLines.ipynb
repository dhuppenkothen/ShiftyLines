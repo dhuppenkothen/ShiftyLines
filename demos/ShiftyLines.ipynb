{
 "cells": [
  {
   "cell_type": "markdown",
   "metadata": {},
   "source": [
    "# Shifty Lines: Line Detection and Doppler Shift Estimation\n",
    "\n",
    "We have some X-ray spectra that have absorption and emission lines in it. The original spectrum is seen through a stellar wind, which moves either toward or away from us, Doppler-shifting the absorbed lines. Not all lines will be absorbed, some may be at their original position. There may also be more than one redshift in the same spectrum.\n",
    "There are various other complications: for example, we rarely have the complete spectrum, but separate intervals of it (due to issues with calibration). In principle, however, the other segments may give valuable information about any other given segment.\n",
    "\n",
    "\n",
    "Simplest problem: estimating Doppler shift and line presence at the same time\n",
    "\n",
    "Second-simplest problem: some lines are Doppler shifted, some are not\n",
    "\n",
    "Full problem: estimating the number of redshifts and the lines belonging to each in the same model\n",
    "\n",
    "Note: we are going to need to add some kind of OU process or spline to model the background."
   ]
  },
  {
   "cell_type": "code",
   "execution_count": null,
   "metadata": {
    "collapsed": false
   },
   "outputs": [],
   "source": [
    "%matplotlib inline\n",
    "import matplotlib.pyplot as plt\n",
    "import seaborn as sns\n",
    "\n",
    "import numpy as np\n",
    "import scipy.special\n",
    "\n",
    "from astropy import units\n",
    "import astropy.constants as const\n",
    "\n",
    "import emcee\n",
    "import corner"
   ]
  },
  {
   "cell_type": "markdown",
   "metadata": {},
   "source": [
    "Let's first load our first example spectrum:"
   ]
  },
  {
   "cell_type": "code",
   "execution_count": null,
   "metadata": {
    "collapsed": true
   },
   "outputs": [],
   "source": [
    "datadir = \"/Users/danielahuppenkothen/work/data/spectral_data/shifty_lines/\"\n",
    "filename = \"8525_nodip_0.dat\""
   ]
  },
  {
   "cell_type": "code",
   "execution_count": null,
   "metadata": {
    "collapsed": true
   },
   "outputs": [],
   "source": [
    "data = np.loadtxt(datadir+filename)"
   ]
  },
  {
   "cell_type": "code",
   "execution_count": null,
   "metadata": {
    "collapsed": false
   },
   "outputs": [],
   "source": [
    "wavelength_left = data[:,0]\n",
    "wavelength_right = data[:,1]\n",
    "\n",
    "wavelength_mid = data[:,0] + (data[:,1]-data[:,0])/2.\n",
    "counts = data[:,2]\n",
    "counts_err = data[:,3]"
   ]
  },
  {
   "cell_type": "code",
   "execution_count": null,
   "metadata": {
    "collapsed": false
   },
   "outputs": [],
   "source": [
    "wavelength_mid[::-1]"
   ]
  },
  {
   "cell_type": "code",
   "execution_count": null,
   "metadata": {
    "collapsed": false
   },
   "outputs": [],
   "source": [
    "plt.figure(figsize=(16,4))\n",
    "plt.plot(wavelength_mid, counts)\n",
    "plt.gca().invert_xaxis()\n",
    "plt.xlim(wavelength_mid[-1], wavelength_mid[0])"
   ]
  },
  {
   "cell_type": "markdown",
   "metadata": {},
   "source": [
    "Next, we're going to need the lines we're interested in. Let's use the Silicon lines. Note that these are all in *electron volt*. However, the data are in *Angstrom*, which means I need to convert them. \n",
    "\n",
    "I'm going to use `astropy.units` to do that:"
   ]
  },
  {
   "cell_type": "code",
   "execution_count": null,
   "metadata": {
    "collapsed": false
   },
   "outputs": [],
   "source": [
    "siXIV = 1864.9995 * units.eV\n",
    "siXIII = 2005.494 * units.eV\n",
    "\n",
    "siXII = 1845.02 * units.eV\n",
    "siXII_err = 0.07 * units.eV\n",
    "\n",
    "siXI = 1827.51 * units.eV\n",
    "siXI_err = 0.06 * units.eV\n",
    "\n",
    "siX = 1808.39 * units.eV\n",
    "siX_err = 0.05 * units.eV\n",
    "\n",
    "siIX = 1789.57 * units.eV\n",
    "siIX_err = 0.07 * units.eV\n",
    "\n",
    "siVIII = 1772.01 * units.eV\n",
    "siVIII_err = 0.09 * units.eV\n",
    "\n",
    "siVII = 1756.68 * units.eV\n",
    "siVII_err = 0.08 * units.eV\n",
    "\n",
    "si_all = [siXIV, siXIII, siXII, siXI, siX, siIX, siVIII, siVII]\n",
    "si_err_all = [0.0*units.eV, 0.0*units.eV, siXII_err, siXI_err, siX_err, siIX_err, siVIII_err, siVII_err]"
   ]
  },
  {
   "cell_type": "markdown",
   "metadata": {},
   "source": [
    "Now I can do the actual conversion:"
   ]
  },
  {
   "cell_type": "code",
   "execution_count": null,
   "metadata": {
    "collapsed": false
   },
   "outputs": [],
   "source": [
    "si_all_angstrom = [(const.h*const.c/s.to(units.Joule)).to(units.Angstrom) \n",
    "                   for s in si_all]\n",
    "si_err_all_angstrom = [(const.h*const.c/s.to(units.Joule)).to(units.Angstrom) \n",
    "                       for s in si_err_all]\n",
    "\n",
    "si_err_all_angstrom[0] = 0.0*units.Angstrom\n",
    "si_err_all_angstrom[1] = 0.0*units.Angstrom"
   ]
  },
  {
   "cell_type": "code",
   "execution_count": null,
   "metadata": {
    "collapsed": false
   },
   "outputs": [],
   "source": [
    "for s in si_all_angstrom:\n",
    "    print(s)"
   ]
  },
  {
   "cell_type": "markdown",
   "metadata": {},
   "source": [
    "Let's plot the lines onto the spectrum:"
   ]
  },
  {
   "cell_type": "code",
   "execution_count": null,
   "metadata": {
    "collapsed": false
   },
   "outputs": [],
   "source": [
    "plt.figure(figsize=(16,4))\n",
    "plt.errorbar(wavelength_mid, counts, yerr=counts_err, fmt=\"o\")\n",
    "plt.gca().invert_xaxis()\n",
    "plt.xlim(wavelength_mid[-1], wavelength_mid[0])\n",
    "for s in si_all_angstrom:\n",
    "    plt.vlines(s.value, np.min(counts), np.max(counts), lw=2)"
   ]
  },
  {
   "cell_type": "markdown",
   "metadata": {},
   "source": [
    "We currently don't have the positions of the longer-wavelength lines, so we're going to cut the spectrum at 7.1 Angstrom:"
   ]
  },
  {
   "cell_type": "code",
   "execution_count": null,
   "metadata": {
    "collapsed": false
   },
   "outputs": [],
   "source": [
    "maxind = wavelength_mid.searchsorted(7.1)"
   ]
  },
  {
   "cell_type": "code",
   "execution_count": null,
   "metadata": {
    "collapsed": true
   },
   "outputs": [],
   "source": [
    "wnew_mid = wavelength_mid[:maxind]\n",
    "wnew_left = wavelength_left[:maxind]\n",
    "wnew_right = wavelength_right[:maxind]\n",
    "\n",
    "cnew = counts[:maxind]\n",
    "enew = counts_err[:maxind]"
   ]
  },
  {
   "cell_type": "code",
   "execution_count": null,
   "metadata": {
    "collapsed": false
   },
   "outputs": [],
   "source": [
    "cnew.shape"
   ]
  },
  {
   "cell_type": "code",
   "execution_count": null,
   "metadata": {
    "collapsed": false
   },
   "outputs": [],
   "source": [
    "plt.figure(figsize=(16,4))\n",
    "plt.errorbar(wnew_mid, cnew, yerr=enew, fmt=\"o\")\n",
    "plt.gca().invert_xaxis()\n",
    "plt.xlim(wnew_mid[-1], wnew_mid[0])\n",
    "for s in si_all_angstrom:\n",
    "    plt.vlines(s.value, np.min(counts), np.max(counts), lw=2)"
   ]
  },
  {
   "cell_type": "markdown",
   "metadata": {},
   "source": [
    "We are going to save the spectrum as well as the line centers:"
   ]
  },
  {
   "cell_type": "code",
   "execution_count": null,
   "metadata": {
    "collapsed": true
   },
   "outputs": [],
   "source": [
    "np.savetxt(datadir+\"8525_nodip_cut.txt\", np.array([wnew_left, wnew_right, wnew_mid, cnew, enew]).T)"
   ]
  },
  {
   "cell_type": "code",
   "execution_count": null,
   "metadata": {
    "collapsed": true
   },
   "outputs": [],
   "source": [
    "## convert from astropy.units to float\n",
    "si_all_val = np.array([s.value for s in si_all_angstrom])\n",
    "si_err_all_val = np.array([s.value for s in si_err_all_angstrom])"
   ]
  },
  {
   "cell_type": "code",
   "execution_count": null,
   "metadata": {
    "collapsed": false
   },
   "outputs": [],
   "source": [
    "np.savetxt(datadir+\"si_lines.txt\", np.array([si_all_val, si_err_all_val]).T)"
   ]
  },
  {
   "cell_type": "markdown",
   "metadata": {},
   "source": [
    "## Simulating Data\n",
    "\n",
    "In order to test any methods we are creating, we are first going to produce some simulated data. \n",
    "\n",
    "For a start, we are simulating two types of data sets: one where the lines are *all* Doppler shifted by a certain amount, and one where a random subset of lines is Doppler shifted."
   ]
  },
  {
   "cell_type": "code",
   "execution_count": null,
   "metadata": {
    "collapsed": false
   },
   "outputs": [],
   "source": [
    "np.random.seed(20160216)"
   ]
  },
  {
   "cell_type": "code",
   "execution_count": null,
   "metadata": {
    "collapsed": false
   },
   "outputs": [],
   "source": [
    "## shift in the line centroid\n",
    "\n",
    "dshift = np.random.normal(loc=0.0, scale=0.2)\n",
    "print(dshift)"
   ]
  },
  {
   "cell_type": "code",
   "execution_count": null,
   "metadata": {
    "collapsed": true
   },
   "outputs": [],
   "source": [
    "\n",
    "def gaussian_cdf(x, w0, width):\n",
    "    return 0.5*(1. + scipy.special.erf((x-w0)/(width*np.sqrt(2.))))\n",
    "\n",
    "def spectral_line(wleft, wright, w0, amplitude, width):\n",
    "    \"\"\"\n",
    "    Use the CDF of a Gaussian distribution to define spectral \n",
    "    lines. We use the CDF to integrate over the energy bins, \n",
    "    rather than taking the mid-bin energy.\n",
    "    \n",
    "    Parameters\n",
    "    ----------\n",
    "    wleft: array\n",
    "        Left edges of the energy bins\n",
    "        \n",
    "    wright: array\n",
    "        Right edges of the energy bins\n",
    "        \n",
    "    w0: float\n",
    "        The centroid of the line\n",
    "        \n",
    "    amplitude: float\n",
    "        The amplitude of the line\n",
    "        \n",
    "    width: float\n",
    "        The width of the line\n",
    "        \n",
    "    Returns\n",
    "    -------\n",
    "    line_flux: array\n",
    "        The array of line fluxes integrated over each bin\n",
    "    \"\"\"\n",
    "    line_flux = amplitude*(gaussian_cdf(wright, w0, width)-\n",
    "                           gaussian_cdf(wleft, w0, width))\n",
    "    return line_flux"
   ]
  },
  {
   "cell_type": "code",
   "execution_count": null,
   "metadata": {
    "collapsed": false
   },
   "outputs": [],
   "source": [
    "w0 = 6.6\n",
    "amp = 0.01\n",
    "width = 0.01\n",
    "\n",
    "line_flux = spectral_line(wnew_left, wnew_right, w0, amp, width)\n"
   ]
  },
  {
   "cell_type": "code",
   "execution_count": null,
   "metadata": {
    "collapsed": false
   },
   "outputs": [],
   "source": [
    "plt.plot(wnew_mid, line_flux)"
   ]
  },
  {
   "cell_type": "markdown",
   "metadata": {},
   "source": [
    "Let's fake some data.\n",
    "\n",
    "Below is a function that can simulate data with various different parameters."
   ]
  },
  {
   "cell_type": "code",
   "execution_count": null,
   "metadata": {
    "collapsed": true
   },
   "outputs": [],
   "source": [
    "def fake_spectrum(wleft, wright, si_all_val, bkg=0.09, err=0.007, dshift=0.0,\n",
    "                  sample_amp=False, sample_width=False, sample_signs=False,\n",
    "                  amp_hypermean=None, amp_hypersigma=0.08, nzero=0, \n",
    "                  width_hypermean=0.01, width_hypersigma=0.01):\n",
    "    \"\"\"\n",
    "    Make a fake spectrum with emission/absorption lines.\n",
    "    The background is constant, though that should later become an OU process or \n",
    "    something similar.\n",
    "    \n",
    "    NOTE: The amplitude *must not* fall below zero! I'm not entirely sure how to deal \n",
    "    with that yet!\n",
    "    \n",
    "    Parameters\n",
    "    ----------\n",
    "    wleft: np.ndarray\n",
    "        Left edges of the energy bins\n",
    "        \n",
    "    wright: np.ndarray\n",
    "        Right edges of the energy bins\n",
    "    \n",
    "    si_all_val: np.ndarray\n",
    "        The positions of the line centroids\n",
    "    \n",
    "    bkg: float\n",
    "        The value of the constant background\n",
    "        \n",
    "    err: float\n",
    "        The width of the Gaussian error distribution\n",
    "        \n",
    "    dshift: float, default 0.0\n",
    "        The Doppler shift of the spectral lines.\n",
    "        \n",
    "    sample_amp: bool, default False\n",
    "        Sample all amplitudes? If not, whatever value is set in \n",
    "        `amp_hypermean` will be set as collective amplitude for all \n",
    "        lines\n",
    "        \n",
    "    sample_width: bool, default False\n",
    "        Sample all line widths?  If not, whatever value is set in \n",
    "        `width_hypersigma` will be set as collective amplitude for all \n",
    "        lines\n",
    "    \n",
    "    sample_signs: bool, default False\n",
    "        Sample the sign of the line amplitude (i.e. whether the line is an \n",
    "        absorption or emission line)? If False, all lines will be absorption \n",
    "        lines\n",
    "        \n",
    "    amp_hypermean: {float | None}, default None\n",
    "        The mean of the Gaussian prior distribution on the line amplitude. If None, \n",
    "        it is set to the same value as `bkg`.\n",
    "        \n",
    "    amp_hypersigma: float, default 0.08\n",
    "        The width of the Gaussian prior distribution on the line amplitude. \n",
    "        \n",
    "    nzero: int, default 0\n",
    "        The number of lines to set to zero amplitude\n",
    "        \n",
    "    width_hypermean: float, default 0.01\n",
    "        The mean of the Gaussian prior on the line width\n",
    "        \n",
    "    width_hypersigma: float, default 0.01\n",
    "        The width of the Gaussian prior distribution on the line width\n",
    "    \n",
    "    Returns\n",
    "    -------\n",
    "    model_flux: np.ndarray\n",
    "        The array of model line fluxes for each bin\n",
    "        \n",
    "    fake_flux: np.ndarray\n",
    "        The array of fake fluxes (with errors) for each bin\n",
    "        \n",
    "    \"\"\"\n",
    "    \n",
    "    # number of lines\n",
    "    nlines = si_all_val.shape[0]\n",
    "    \n",
    "    print(\"dshift: %.11f\"%dshift)\n",
    "    # shift spectral lines\n",
    "    si_all_val_shifted = si_all_val*(1. + dshift)\n",
    "    \n",
    "    if sample_amp:  \n",
    "        # sample line amplitudes\n",
    "        amps = np.random.normal(amp_hypermean, amp_hypersigma, size=nlines)\n",
    "    else:\n",
    "        amps = np.zeros(nlines)+amp_hypermean\n",
    "        \n",
    "        \n",
    "    if nzero > 0:\n",
    "        zero_ind = np.random.choice(np.arange(nlines), size=nzero)\n",
    "        for z in zero_ind:\n",
    "            amps[int(z)] = 0.0\n",
    "    \n",
    "    if sample_signs:\n",
    "        # sample sign of the amplitudes\n",
    "        signs = np.random.choice([-1., 1.], p=[0.5, 0.5], size=nlines)\n",
    "    else:\n",
    "        # all lines are absorption lines\n",
    "        signs = -1.*np.ones(nlines)\n",
    "        \n",
    "    # include signs in the amplitudes\n",
    "    amps *= signs\n",
    "    \n",
    "    if sample_width:\n",
    "        # widths of the lines\n",
    "        widths = np.random.normal(width_hypermean, width_hypersigma, size=nlines)\n",
    "    else:\n",
    "        widths = np.ones(nlines)*width_hypermean\n",
    "        \n",
    "        \n",
    "    model_flux = np.zeros_like(wleft) + bkg\n",
    "    \n",
    "    for si, a, w in zip(si_all_val_shifted, amps, widths):\n",
    "        #print(a)\n",
    "        model_flux += spectral_line(wleft, wright, si, a, w)\n",
    "      \n",
    "    fake_flux = model_flux + np.random.normal(0.0, 0.007, size=model_flux.shape[0])\n",
    "    return model_flux, fake_flux\n",
    "    \n",
    "    "
   ]
  },
  {
   "cell_type": "code",
   "execution_count": null,
   "metadata": {
    "collapsed": false
   },
   "outputs": [],
   "source": [
    "for s in si_all_val:\n",
    "    print(\"%.15f\"%s)"
   ]
  },
  {
   "cell_type": "markdown",
   "metadata": {},
   "source": [
    "\n",
    "### A non-shifted spectrum with all the same amplitudes\n",
    "\n",
    "We'll make a set of spectra that are not Doppler shifted at all, where all lines have \n",
    "the same width and amplitude as a first dumb check of whether our method works.\n",
    "All lines are absorption lines.\n",
    "\n",
    "First spectrum: absorption spectrum with all lines absorption lines with the same height and width, no redshift:"
   ]
  },
  {
   "cell_type": "code",
   "execution_count": null,
   "metadata": {
    "collapsed": false
   },
   "outputs": [],
   "source": [
    "model_flux, fake_flux = fake_spectrum(wnew_left, wnew_right, si_all_val, amp_hypermean=0.3)"
   ]
  },
  {
   "cell_type": "code",
   "execution_count": null,
   "metadata": {
    "collapsed": false
   },
   "outputs": [],
   "source": [
    "#plt.errorbar(wnew_mid, cnew, yerr=enew, fmt=\"o\")\n",
    "plt.plot(wnew_mid, cnew, alpha=0.7)\n",
    "plt.gca().invert_xaxis()\n",
    "plt.xlim(wnew_mid[-1], wnew_mid[0])\n",
    "#for s in si_all_angstrom:\n",
    "#    plt.vlines(s.value, np.min(counts), np.max(counts), lw=2)\n",
    "\n",
    "plt.plot(wnew_mid, fake_flux, alpha=0.7)"
   ]
  },
  {
   "cell_type": "code",
   "execution_count": null,
   "metadata": {
    "collapsed": false
   },
   "outputs": [],
   "source": [
    "for s in si_all_val:\n",
    "    print(s/0.01)"
   ]
  },
  {
   "cell_type": "markdown",
   "metadata": {},
   "source": [
    "Looks about right! Let's save that and a few other amplitudes:"
   ]
  },
  {
   "cell_type": "code",
   "execution_count": null,
   "metadata": {
    "collapsed": false
   },
   "outputs": [],
   "source": [
    "froot = \"test_spectra_noshift_sameamp_samewidth\"\n",
    "\n",
    "amps = np.array([0.01, 0.1, 0.3, 0.5])\n",
    "all_model_fluxes, all_fake_fluxes = [], []\n",
    "\n",
    "for i,a in enumerate(amps):\n",
    "    model_flux, fake_flux = fake_spectrum(wnew_left, wnew_right, si_all_val, amp_hypermean=a)\n",
    "    all_model_fluxes.append(model_flux)\n",
    "    all_fake_fluxes.append(fake_flux)\n",
    "    np.savetxt(datadir+froot+\"%i.txt\"%i, \n",
    "               np.array([wnew_left, wnew_right, wnew_mid, fake_flux, model_flux]).T,\n",
    "               header=\"# dshift=0.0, err=0.007, amp=%.3f, width=0.01\"%a)"
   ]
  },
  {
   "cell_type": "markdown",
   "metadata": {},
   "source": [
    "Let's see whether it worked:"
   ]
  },
  {
   "cell_type": "code",
   "execution_count": null,
   "metadata": {
    "collapsed": false,
    "scrolled": true
   },
   "outputs": [],
   "source": [
    "for i in range(amps.shape[0]):\n",
    "    plt.figure(figsize=(16,6))\n",
    "    data = np.loadtxt(datadir+froot+\"%i.txt\"%i)\n",
    "    plt.errorbar(data[:,2], data[:,3], yerr=(data[:,3]-data[:,4]), fmt=\"o\")\n",
    "    plt.plot(data[:,2], data[:,4])"
   ]
  },
  {
   "cell_type": "markdown",
   "metadata": {},
   "source": [
    "Cool! So that worked!\n",
    "\n",
    "Let's set some lines to zero:"
   ]
  },
  {
   "cell_type": "code",
   "execution_count": null,
   "metadata": {
    "collapsed": true
   },
   "outputs": [],
   "source": [
    "froot = \"test_spectra_noshift_sameamp_samewidth_nzero2\"\n",
    "\n",
    "amp = 0.3\n",
    "\n",
    "model_flux, fake_flux = fake_spectrum(wnew_left, wnew_right, si_all_val, \n",
    "                                      amp_hypermean=amp, nzero=2, sample_signs=False)\n",
    "\n",
    "flux_err = np.ones_like(fake_flux)*0.007\n",
    "\n",
    "np.savetxt(datadir+froot+\".txt\", \n",
    "           np.array([wnew_left, wnew_right, wnew_mid, fake_flux, model_flux]).T,\n",
    "           header=\"# dshift=0.0, err=0.007, amp=%.3f, width=0.01\"%a)"
   ]
  },
  {
   "cell_type": "code",
   "execution_count": null,
   "metadata": {
    "collapsed": false
   },
   "outputs": [],
   "source": [
    "plt.figure(figsize=(16,6))\n",
    "data = np.loadtxt(datadir+froot+\".txt\")\n",
    "plt.errorbar(data[:,2], data[:,3], yerr=(data[:,3]-data[:,4]), fmt=\"o\")\n",
    "plt.plot(data[:,2], data[:,4])"
   ]
  },
  {
   "cell_type": "code",
   "execution_count": null,
   "metadata": {
    "collapsed": true
   },
   "outputs": [],
   "source": [
    "np.savetxt(datadir+\"test_noshift3.dat\", \n",
    "           np.array([wnew_left, wnew_right, fake_flux, flux_err]).T)"
   ]
  },
  {
   "cell_type": "markdown",
   "metadata": {},
   "source": [
    "Same thing but with possible absorption and emission lines:"
   ]
  },
  {
   "cell_type": "code",
   "execution_count": null,
   "metadata": {
    "collapsed": false
   },
   "outputs": [],
   "source": [
    "froot = \"test_spectra_noshift_sameamp_samewidth_emab\"\n",
    "\n",
    "amps = np.array([0.01, 0.1, 0.3, 0.5])\n",
    "all_model_fluxes, all_fake_fluxes = [], []\n",
    "\n",
    "for i,a in enumerate(amps):\n",
    "    model_flux, fake_flux = fake_spectrum(wnew_left, wnew_right, si_all_val, amp_hypermean=a, sample_signs=True)\n",
    "    all_model_fluxes.append(model_flux)\n",
    "    all_fake_fluxes.append(fake_flux)\n",
    "    np.savetxt(datadir+froot+\"%i.txt\"%i, \n",
    "               np.array([wnew_left, wnew_right, wnew_mid, fake_flux, model_flux]).T,\n",
    "               header=\"# dshift=0.0, err=0.007, amp=%.3f, width=0.01\"%a)"
   ]
  },
  {
   "cell_type": "code",
   "execution_count": null,
   "metadata": {
    "collapsed": false,
    "scrolled": true
   },
   "outputs": [],
   "source": [
    "for i in range(amps.shape[0]):\n",
    "    plt.figure(figsize=(16,6))\n",
    "    data = np.loadtxt(datadir+froot+\"%i.txt\"%i)\n",
    "    plt.errorbar(data[:,2], data[:,3], yerr=(data[:,3]-data[:,4]), fmt=\"o\")\n",
    "    plt.plot(data[:,2], data[:,4])"
   ]
  },
  {
   "cell_type": "markdown",
   "metadata": {},
   "source": [
    "Awesomeness!\n",
    "\n",
    "## A shifted spectrum with the same amplitudes and widths\n",
    "\n",
    "Let's now add a Doppler shift to the spectrum:"
   ]
  },
  {
   "cell_type": "code",
   "execution_count": null,
   "metadata": {
    "collapsed": false,
    "scrolled": true
   },
   "outputs": [],
   "source": [
    "froot = \"test_spectra_sameamp_samewidth\"\n",
    "\n",
    "amps = np.array([0.01, 0.1, 0.3, 0.5])\n",
    "dshifts = np.array([0.001, 0.005, 0.01, 0.05, 0.1])\n",
    "all_model_fluxes, all_fake_fluxes = [], []\n",
    "\n",
    "for i,a in enumerate(amps):\n",
    "    for j,d in enumerate(dshifts):\n",
    "        print(\"a: \" + str(a))\n",
    "        print(\"d: \" + str(d))\n",
    "        model_flux, fake_flux = fake_spectrum(wnew_left, wnew_right, si_all_val, dshift=d,\n",
    "                                              amp_hypermean=a, sample_signs=False)\n",
    "\n",
    "        all_model_fluxes.append(model_flux)\n",
    "        all_fake_fluxes.append(fake_flux)\n",
    "        np.savetxt(datadir+froot+\"_dshift=%.3f_%i.txt\"%(d,i), \n",
    "                   np.array([wnew_left, wnew_right, wnew_mid, fake_flux, model_flux]).T,\n",
    "                   header=\"# dshift=%.3f, err=0.007, amp=%.3f, width=0.01\"%(d,a))"
   ]
  },
  {
   "cell_type": "code",
   "execution_count": null,
   "metadata": {
    "collapsed": false,
    "scrolled": true
   },
   "outputs": [],
   "source": [
    "for i in range(amps.shape[0]):\n",
    "    for j,d in enumerate(dshifts):\n",
    "        plt.figure(figsize=(16,6))\n",
    "        data = np.loadtxt(datadir+froot+\"_dshift=%.3f_%i.txt\"%(d,i))\n",
    "        plt.errorbar(data[:,2], data[:,3], yerr=(data[:,3]-data[:,4]), fmt=\"o\")\n",
    "        plt.plot(data[:,2], data[:,4])"
   ]
  },
  {
   "cell_type": "code",
   "execution_count": null,
   "metadata": {
    "collapsed": false
   },
   "outputs": [],
   "source": [
    "plt.figure(figsize=(16,6))\n",
    "data = np.loadtxt(datadir+\"test_spectra_sameamp_samewidth_dshift=0.005_2.txt\")\n",
    "plt.errorbar(data[:,2], data[:,3], yerr=(data[:,3]-data[:,4]), fmt=\"o\")\n",
    "plt.plot(data[:,2], data[:,4])"
   ]
  },
  {
   "cell_type": "code",
   "execution_count": null,
   "metadata": {
    "collapsed": true
   },
   "outputs": [],
   "source": [
    "np.savetxt(datadir+\"test_shift1.dat\", \n",
    "           np.array([data[:,0], data[:,1], data[:,3], flux_err]).T)"
   ]
  },
  {
   "cell_type": "markdown",
   "metadata": {},
   "source": [
    "Same thing with both emission and absorption lines:"
   ]
  },
  {
   "cell_type": "code",
   "execution_count": null,
   "metadata": {
    "collapsed": false
   },
   "outputs": [],
   "source": [
    "froot = \"test_shift2\"\n",
    "\n",
    "amp = 0.3\n",
    "\n",
    "model_flux, fake_flux = fake_spectrum(wnew_left, wnew_right, si_all_val, \n",
    "                                      amp_hypermean=amp, nzero=0, sample_signs=True,\n",
    "                                     dshift=0.005)\n",
    "\n",
    "flux_err = np.ones_like(fake_flux)*0.007\n",
    "\n",
    "np.savetxt(datadir+froot+\"_withmodel.dat\", \n",
    "           np.array([wnew_left, wnew_right, wnew_mid, fake_flux, model_flux]).T,\n",
    "           header=\"# dshift=0.005, err=0.007, amp=%.3f, width=0.01\"%amp)\n",
    "\n"
   ]
  },
  {
   "cell_type": "code",
   "execution_count": null,
   "metadata": {
    "collapsed": false
   },
   "outputs": [],
   "source": [
    "plt.figure(figsize=(16,6))\n",
    "data = np.loadtxt(datadir+\"test_shift2_withmodel.dat\")\n",
    "plt.errorbar(data[:,2], data[:,3], yerr=(data[:,3]-data[:,4]), fmt=\"o\")\n",
    "plt.plot(data[:,2], data[:,4])"
   ]
  },
  {
   "cell_type": "code",
   "execution_count": null,
   "metadata": {
    "collapsed": true
   },
   "outputs": [],
   "source": [
    "np.savetxt(datadir+\"test_shift2.dat\", \n",
    "           np.array([data[:,0], data[:,1], data[:,3], flux_err]).T)"
   ]
  },
  {
   "cell_type": "markdown",
   "metadata": {},
   "source": [
    "## A simple model for non-Doppler shifted data\n",
    "\n",
    "Let's first write a simple model that deals with non-Doppler shifted data:\n"
   ]
  },
  {
   "cell_type": "code",
   "execution_count": null,
   "metadata": {
    "collapsed": false
   },
   "outputs": [],
   "source": [
    "logmin = -1.e16\n",
    "\n",
    "def gaussian_cdf(x, w0, width):\n",
    "    return 0.5*(1. + scipy.special.erf((x-w0)/(width*np.sqrt(2.))))\n",
    "\n",
    "def spectral_line(wleft, wright, w0, amplitude, width):\n",
    "    \"\"\"\n",
    "    Use the CDF of a Gaussian distribution to define spectral \n",
    "    lines. We use the CDF to integrate over the energy bins, \n",
    "    rather than taking the mid-bin energy.\n",
    "    \n",
    "    Parameters\n",
    "    ----------\n",
    "    wleft: array\n",
    "        Left edges of the energy bins\n",
    "        \n",
    "    wright: array\n",
    "        Right edges of the energy bins\n",
    "        \n",
    "    w0: float\n",
    "        The centroid of the line\n",
    "        \n",
    "    amplitude: float\n",
    "        The amplitude of the line\n",
    "        \n",
    "    width: float\n",
    "        The width of the line\n",
    "        \n",
    "    Returns\n",
    "    -------\n",
    "    line_flux: array\n",
    "        The array of line fluxes integrated over each bin\n",
    "    \"\"\"\n",
    "    line_flux = amplitude*(gaussian_cdf(wright, w0, width)-\n",
    "                           gaussian_cdf(wleft, w0, width))\n",
    "    return line_flux\n",
    "\n",
    "class LinePosterior(object):\n",
    "    def __init__(self, x_left, x_right, y, yerr, line_pos):\n",
    "        \"\"\"\n",
    "        A class to compute the posterior of all the lines in \n",
    "        a spectrum.\n",
    "        \n",
    "        Parameters\n",
    "        ----------\n",
    "        x_left: np.ndarray\n",
    "            The left edges of the independent variable (wavelength bins)\n",
    "        \n",
    "        x_right: np.ndarray\n",
    "            The right edges of the independent variable (wavelength bins)\n",
    "            \n",
    "        y: np.ndarray\n",
    "            The dependent variable (flux)\n",
    "            \n",
    "        yerr: np.ndarray\n",
    "            The uncertainty on the dependent variable (flux)\n",
    "            \n",
    "        line_pos: np.ndarray\n",
    "            The rest-frame positions of the spectral lines\n",
    "            \n",
    "        Attributes\n",
    "        ----------\n",
    "        x_left: np.ndarray\n",
    "            The left edges of the independent variable (wavelength bins)\n",
    "        \n",
    "        x_right: np.ndarray\n",
    "            The right edges of the independent variable (wavelength bins)\n",
    "          \n",
    "        x_mid: np.ndarray\n",
    "            The mid-bin positions\n",
    "            \n",
    "        y: np.ndarray\n",
    "            The dependent variable (flux)\n",
    "            \n",
    "        yerr: np.ndarray\n",
    "            The uncertainty on the dependent variable (flux)\n",
    "            \n",
    "        line_pos: np.ndarray\n",
    "            The rest-frame positions of the spectral lines\n",
    "\n",
    "        nlines: int\n",
    "            The number of lines in the model\n",
    "        \n",
    "        \"\"\"\n",
    "    \n",
    "        self.x_left = x_left\n",
    "        self.x_right = x_right\n",
    "        self.x_mid = x_left + (x_right-x_left)/2.\n",
    "        \n",
    "        self.y = y\n",
    "        \n",
    "        assert np.size(yerr) == 1, \"Multiple errors are not supported!\"\n",
    "        \n",
    "        self.yerr = yerr\n",
    "        self.line_pos = line_pos\n",
    "        self.nlines = len(line_pos)\n",
    "        \n",
    "    def logprior(self, t0):\n",
    "        \"\"\"\n",
    "        The prior of the model. Currently there are Gaussian priors on the \n",
    "        line width as well as the amplitude and the redshift.\n",
    "    \n",
    "        Parameters\n",
    "        ----------\n",
    "        t0: iterable\n",
    "            The list or array with the parameters of the model\n",
    "            Contains:\n",
    "                * Doppler shift\n",
    "                * a background parameter\n",
    "                * all line amplitudes\n",
    "                * all line widths\n",
    "\n",
    "            \n",
    "        Returns\n",
    "        -------\n",
    "        logp: float\n",
    "            The log-prior of the model\n",
    "        \n",
    "        \"\"\"\n",
    "        # t0 must have twice the number of lines (amplitude, width for each) plus a \n",
    "        # background plus the redshift\n",
    "        assert len(t0) == 2*self.nlines+2, \"Wrong number of parameters!\"\n",
    "        \n",
    "        # get out the individual parameters\n",
    "        dshift = t0[0] # Doppler shift\n",
    "        log_bkg = t0[1]\n",
    "        amps = t0[2:2+self.nlines]\n",
    "        log_widths = t0[2+self.nlines:]\n",
    "        \n",
    "        # prior on the Doppler shift is Gaussian\n",
    "        dshift_hypermean = 0.0\n",
    "        dshift_hypersigma = 0.01\n",
    "        \n",
    "        dshift_prior = scipy.stats.norm(dshift_hypermean, dshift_hypersigma)\n",
    "        p_dshift = np.log(dshift_prior.pdf(dshift))\n",
    "        \n",
    "        #print(\"p_dshift: \" + str(p_dshift))\n",
    "        \n",
    "        # Prior on the background is uniform\n",
    "        logbkg_min = -10.0\n",
    "        logbkg_max = 10.0\n",
    "        p_bkg = (log_bkg >= logbkg_min and log_bkg <= logbkg_max)/(logbkg_max-logbkg_min)\n",
    "        if p_bkg == 0:\n",
    "            p_logbkg = logmin\n",
    "        else:\n",
    "            p_logbkg = 0.0\n",
    "        \n",
    "        #print(\"p_logbkg: \" + str(p_logbkg))\n",
    "        \n",
    "        # prior on the amplitude is Gaussian\n",
    "        amp_hypermean = 0.0\n",
    "        amp_hypersigma = 0.1\n",
    "        \n",
    "        amp_prior = scipy.stats.norm(amp_hypermean, amp_hypersigma)\n",
    "        \n",
    "        p_amp = 0.0\n",
    "        for a in amps:\n",
    "            p_amp += np.log(amp_prior.pdf(a))\n",
    "        \n",
    "        #print(\"p_amp: \" + str(p_amp))\n",
    "        # prior on the log-widths is uniform:\n",
    "        logwidth_min = -5.\n",
    "        logwidth_max = 3.\n",
    "        \n",
    "        p_logwidths = 0.0\n",
    "        for w in log_widths:\n",
    "            #print(\"w: \" + str(w))\n",
    "            p_width = (w >= logwidth_min and w <= logwidth_max)/(logwidth_max-logwidth_min)\n",
    "            if p_width == 0.0:\n",
    "                p_logwidths += logmin\n",
    "            else:\n",
    "                continue\n",
    "                \n",
    "        #print(\"p_logwidths: \" + str(p_logwidths))\n",
    "        logp = p_dshift + p_logbkg + p_amp + p_logwidths\n",
    "        \n",
    "        return logp\n",
    "    \n",
    "    @staticmethod\n",
    "    def _spectral_model(x_left, x_right, dshift, logbkg, line_pos, amplitudes, logwidths):\n",
    "        \"\"\"\n",
    "        The spectral model underlying the data. It uses the object \n",
    "        attributes `x_left` and `x_right` to integrate over the bins \n",
    "        correctly.\n",
    "        \n",
    "        Parameters\n",
    "        ----------\n",
    "        x_left: np.ndarray\n",
    "            The left bin edges of the ordinate (wavelength bins)\n",
    "            \n",
    "        x_right: np.ndarray\n",
    "            The right bin edges of the ordinate (wavelength bins)\n",
    "            \n",
    "        dshift: float\n",
    "            The Doppler shift\n",
    "            \n",
    "        logbkg: float\n",
    "            Logarithm of the constant background level\n",
    "        \n",
    "        line_pos: iterable\n",
    "            The rest frame positions of the line centroids in the same \n",
    "            units as `x_left` and `x_right`\n",
    "        \n",
    "        amplitudes: iterable\n",
    "            The list of all line amplitudes\n",
    "            \n",
    "        logwidths: iterable\n",
    "            The list of the logarithm of all line widths\n",
    "        \n",
    "        Returns\n",
    "        -------\n",
    "        flux: np.ndarray\n",
    "            The integrated flux in the bins defined by `x_left` and `x_right`\n",
    "            \n",
    "        \"\"\"\n",
    "        \n",
    "        assert len(line_pos) == len(amplitudes), \"Line positions and amplitudes must have same length\"\n",
    "        assert len(line_pos) == len(logwidths), \"Line positions and widths must have same length\"\n",
    "        \n",
    "        # shift the line position by the redshift\n",
    "        line_pos_shifted = line_pos + dshift\n",
    "        \n",
    "        #print(line_pos_shifted)\n",
    "        # exponentiate logarithmic quantities\n",
    "        bkg = np.exp(logbkg)\n",
    "        widths = np.exp(logwidths)\n",
    "        \n",
    "        #print(widths)\n",
    "        # background flux\n",
    "        flux = np.zeros_like(x_left) + bkg\n",
    "\n",
    "        #print(amplitudes)\n",
    "        \n",
    "        # add all the line fluxes\n",
    "        for x0, a, w in zip(line_pos_shifted, amplitudes, widths):\n",
    "            flux += spectral_line(x_left, x_right, x0, a, w)\n",
    "\n",
    "        return flux\n",
    "\n",
    "        \n",
    "        \n",
    "    def loglikelihood(self, t0):\n",
    "        \"\"\"\n",
    "        The Gaussian likelihood of the model. \n",
    "    \n",
    "        Parameters\n",
    "        ----------\n",
    "        t0: iterable\n",
    "            The list or array with the parameters of the model\n",
    "            Contains:\n",
    "                * Doppler shift\n",
    "                * a background parameter\n",
    "                * all line amplitudes\n",
    "                * all line widths\n",
    "\n",
    "            \n",
    "        Returns\n",
    "        -------\n",
    "        loglike: float\n",
    "            The log-likelihood of the model\n",
    "        \n",
    "        \"\"\"\n",
    "        \n",
    "        assert len(t0) == 2*self.nlines+2, \"Wrong number of parameters!\"\n",
    "        \n",
    "        # get out the individual parameters\n",
    "        dshift = t0[0] # Doppler shift\n",
    "        logbkg = t0[1]\n",
    "        amplitudes = t0[2:2+self.nlines]\n",
    "        logwidths = t0[2+self.nlines:]\n",
    "\n",
    "        model_flux = self._spectral_model(self.x_left, self.x_right, \n",
    "                                          dshift, logbkg, self.line_pos, \n",
    "                                          amplitudes, logwidths)\n",
    "\n",
    "        loglike = -(len(self.y)/2.)*np.log(2.*np.pi*self.yerr**2.) - \\\n",
    "                    np.sum((self.y-model_flux)**2./(2.*self.yerr**2.))\n",
    "            \n",
    "        return loglike\n",
    "    \n",
    "    def logposterior(self, t0):\n",
    "        \"\"\"\n",
    "        The Gaussian likelihood of the model. \n",
    "    \n",
    "        Parameters\n",
    "        ----------\n",
    "        t0: iterable\n",
    "            The list or array with the parameters of the model\n",
    "            Contains:\n",
    "                * Doppler shift\n",
    "                * a background parameter\n",
    "                * all line amplitudes\n",
    "                * all line widths\n",
    "\n",
    "            \n",
    "        Returns\n",
    "        -------\n",
    "        logpost: float\n",
    "            The log-likelihood of the model\n",
    "        \n",
    "        \"\"\"\n",
    "\n",
    "        \n",
    "        # assert the number of input parameters is correct:\n",
    "        assert len(t0) == 2*self.nlines+2, \"Wrong number of parameters!\"\n",
    "\n",
    "        logpost = self.logprior(t0) + self.loglikelihood(t0)\n",
    "        #print(\"prior: \" + str(self.logprior(t0)))\n",
    "        #print(\"likelihood: \" + str(self.loglikelihood(t0)))\n",
    "        #print(\"posterior: \" + str(self.logposterior(t0)))\n",
    "        if np.isfinite(logpost):\n",
    "            return logpost\n",
    "        else:\n",
    "            return logmin\n",
    "\n",
    "    def __call__(self, t0):\n",
    "        return self.logposterior(t0)"
   ]
  },
  {
   "cell_type": "markdown",
   "metadata": {},
   "source": [
    "Now we can use `emcee` to sample. \n",
    "\n",
    "We're going to use one of our example data sets, one without Doppler shift and strong lines:"
   ]
  },
  {
   "cell_type": "code",
   "execution_count": null,
   "metadata": {
    "collapsed": false
   },
   "outputs": [],
   "source": [
    "data = np.loadtxt(datadir+\"test_spectra_noshift_sameamp_samewidth3.txt\")\n",
    "\n",
    "x_left = data[:,0]\n",
    "x_right = data[:,1]\n",
    "flux = data[:,3]\n",
    "f_err = 0.007\n",
    "\n",
    "lpost = LinePosterior(x_left, x_right, flux, f_err, si_all_val)\n",
    "\n",
    "plt.errorbar(lpost.x_mid, flux, yerr=f_err, fmt=\"o\", label=\"Fake data\")\n",
    "plt.plot(lpost.x_mid, data[:,4], label=\"Underlying model\")\n"
   ]
  },
  {
   "cell_type": "code",
   "execution_count": null,
   "metadata": {
    "collapsed": false
   },
   "outputs": [],
   "source": [
    "d_test = 0.0\n",
    "bkg_test = np.log(0.09)\n",
    "amp_test = np.zeros_like(si_all_val) - 0.5\n",
    "logwidth_test = np.log(np.zeros_like(si_all_val) + 0.01)\n",
    "\n",
    "p_test = np.hstack([d_test, bkg_test, amp_test, logwidth_test])"
   ]
  },
  {
   "cell_type": "code",
   "execution_count": null,
   "metadata": {
    "collapsed": false
   },
   "outputs": [],
   "source": [
    "lpost.logprior(p_test)"
   ]
  },
  {
   "cell_type": "code",
   "execution_count": null,
   "metadata": {
    "collapsed": false
   },
   "outputs": [],
   "source": [
    "d_test = 0.0\n",
    "bkg_test = np.log(0.09)\n",
    "amp_test = np.zeros_like(si_all_val) - 0.5\n",
    "logwidth_test = np.log(np.zeros_like(si_all_val) + 0.01)\n",
    "\n",
    "p_test = np.hstack([d_test, bkg_test, amp_test, logwidth_test])\n",
    "\n",
    "lpost.loglikelihood(p_test)"
   ]
  },
  {
   "cell_type": "code",
   "execution_count": null,
   "metadata": {
    "collapsed": true
   },
   "outputs": [],
   "source": [
    "nwalkers = 1000\n",
    "niter = 300\n",
    "burnin = 300\n",
    "\n",
    "# starting positions for all parameters, from the prior\n",
    "# the values are taken from the `logprior` method in `LinePosterior`.\n",
    "# If the hyperparameters of the prior change in there, they'd better \n",
    "# change here, too!\n",
    "dshift_start = np.random.normal(0.0, 0.01, size=nwalkers)\n",
    "logbkg_start = np.random.uniform(-10., 10., size=nwalkers)\n",
    "amp_start = np.random.normal(0.0, 0.1, size=(lpost.nlines, nwalkers))\n",
    "logwidth_start = np.random.uniform(-5., 3., size=(lpost.nlines, nwalkers))\n",
    "p0 = np.vstack([dshift_start, logbkg_start, amp_start, logwidth_start]).T\n",
    "\n",
    "ndim = p0.shape[1]"
   ]
  },
  {
   "cell_type": "code",
   "execution_count": null,
   "metadata": {
    "collapsed": false
   },
   "outputs": [],
   "source": [
    "\n",
    "sampler = emcee.EnsembleSampler(nwalkers, ndim, lpost)\n",
    "pos, prob, state = sampler.run_mcmc(p0, burnin)\n"
   ]
  },
  {
   "cell_type": "code",
   "execution_count": null,
   "metadata": {
    "collapsed": false
   },
   "outputs": [],
   "source": [
    "sampler.reset()\n",
    "\n",
    "## do the actual MCMC run\n",
    "pos, prob, state = sampler.run_mcmc(pos, niter, rstate0=state)\n"
   ]
  },
  {
   "cell_type": "code",
   "execution_count": null,
   "metadata": {
    "collapsed": true
   },
   "outputs": [],
   "source": [
    "mcall = sampler.flatchain"
   ]
  },
  {
   "cell_type": "code",
   "execution_count": null,
   "metadata": {
    "collapsed": false
   },
   "outputs": [],
   "source": [
    "mcall.shape"
   ]
  },
  {
   "cell_type": "code",
   "execution_count": null,
   "metadata": {
    "collapsed": false
   },
   "outputs": [],
   "source": [
    "for i in range(mcall.shape[1]):\n",
    "    pmean = np.mean(mcall[:,i])\n",
    "    pstd = np.std(mcall[:,i])\n",
    "    print(\"Parameter %i: %.4f +/- %.4f\"%(i, pmean, pstd))"
   ]
  },
  {
   "cell_type": "code",
   "execution_count": null,
   "metadata": {
    "collapsed": false
   },
   "outputs": [],
   "source": [
    "mcall.shape"
   ]
  },
  {
   "cell_type": "code",
   "execution_count": null,
   "metadata": {
    "collapsed": false
   },
   "outputs": [],
   "source": [
    "corner.corner(mcall);"
   ]
  },
  {
   "cell_type": "code",
   "execution_count": null,
   "metadata": {
    "collapsed": false
   },
   "outputs": [],
   "source": [
    "lpost = LinePosterior(x_left, x_right, flux, f_err, si_all_val)\n",
    "\n",
    "plt.errorbar(lpost.x_mid, flux, yerr=f_err, fmt=\"o\", label=\"Fake data\")\n",
    "plt.plot(lpost.x_mid, data[:,4], label=\"Underlying model\")\n",
    "\n",
    "randind = np.random.choice(np.arange(mcall.shape[0]), replace=False, size=20)\n",
    "for ri in randind:\n",
    "    ri = int(ri)\n",
    "    p = mcall[ri]\n",
    "    dshift = p[0]\n",
    "    logbkg = p[1]\n",
    "    line_pos = lpost.line_pos\n",
    "    amplitudes = p[2:2+lpost.nlines]\n",
    "    logwidths = p[2+lpost.nlines:] \n",
    "    plt.plot(lpost.x_mid, lpost._spectral_model(x_left, x_right, dshift, logbkg, line_pos,\n",
    "                                               amplitudes, logwidths))"
   ]
  },
  {
   "cell_type": "markdown",
   "metadata": {},
   "source": [
    "## Preparing Data for DNest4 run\n",
    "\n",
    "The data as I saved it can't be read into DNest4, so I need to save it into a better format:"
   ]
  },
  {
   "cell_type": "code",
   "execution_count": null,
   "metadata": {
    "collapsed": true
   },
   "outputs": [],
   "source": [
    "data = np.loadtxt(datadir+\"test_spectra_noshift_sameamp_samewidth3.txt\")"
   ]
  },
  {
   "cell_type": "code",
   "execution_count": null,
   "metadata": {
    "collapsed": false
   },
   "outputs": [],
   "source": [
    "x_left = data[:,0]\n",
    "x_right = data[:,1]\n",
    "\n",
    "y = data[:,3]\n",
    "yerr = np.ones_like(y)*0.007\n",
    "\n",
    "np.savetxt(\"/Users/danielahuppenkothen/work/repositories/shiftylines/data/test_noshift1.dat\",\n",
    "          np.array([x_left, x_right, y, yerr]).T)"
   ]
  },
  {
   "cell_type": "code",
   "execution_count": null,
   "metadata": {
    "collapsed": false
   },
   "outputs": [],
   "source": [
    "data = np.loadtxt(\"/Users/danielahuppenkothen/work/repositories/shiftylines/data/test_noshift1.dat\")\n",
    "data.shape"
   ]
  },
  {
   "cell_type": "code",
   "execution_count": null,
   "metadata": {
    "collapsed": true
   },
   "outputs": [],
   "source": []
  },
  {
   "cell_type": "markdown",
   "metadata": {},
   "source": [
    "### Looking at the results\n",
    "\n",
    "Let's look at some initial results:"
   ]
  },
  {
   "cell_type": "code",
   "execution_count": null,
   "metadata": {
    "collapsed": true
   },
   "outputs": [],
   "source": [
    "dnest_dir = \"/Users/danielahuppenkothen/work/repositories/shiftylines/code/\"\n",
    "\n",
    "samples = np.atleast_2d(np.loadtxt(dnest_dir+\"posterior_sample.txt\"))"
   ]
  },
  {
   "cell_type": "code",
   "execution_count": null,
   "metadata": {
    "collapsed": false
   },
   "outputs": [],
   "source": [
    "plt.plot(x_left, samples[0,-x_left.shape[0]:])"
   ]
  },
  {
   "cell_type": "code",
   "execution_count": null,
   "metadata": {
    "collapsed": false
   },
   "outputs": [],
   "source": [
    "s = samples[0]"
   ]
  },
  {
   "cell_type": "markdown",
   "metadata": {
    "collapsed": true
   },
   "source": [
    "## Real Data\n",
    "\n",
    "Let's look at some real data!"
   ]
  },
  {
   "cell_type": "code",
   "execution_count": null,
   "metadata": {
    "collapsed": true
   },
   "outputs": [],
   "source": [
    "data = np.loadtxt(\"/Users/danielahuppenkothen/work/data/spectral_data/shifty_lines/8525_nodip_cut.txt\")"
   ]
  },
  {
   "cell_type": "code",
   "execution_count": null,
   "metadata": {
    "collapsed": false
   },
   "outputs": [],
   "source": [
    "plt.errorbar(data[:,0], data[:,3], yerr=data[:,4], fmt=\"o\")"
   ]
  },
  {
   "cell_type": "code",
   "execution_count": null,
   "metadata": {
    "collapsed": false
   },
   "outputs": [],
   "source": [
    "np.savetxt(\"/Users/danielahuppenkothen/work/repositories/shiftylines/data/cygx1_chandra1.dat\", np.array([data[:,0], data[:,1], data[:,3], data[:,4]]).T)"
   ]
  },
  {
   "cell_type": "code",
   "execution_count": null,
   "metadata": {
    "collapsed": true
   },
   "outputs": [],
   "source": []
  },
  {
   "cell_type": "markdown",
   "metadata": {},
   "source": [
    "Things to think about:\n",
    "* what if we don't have ten lines, but a hundred?\n",
    "* want to do actual inference on individual lines (i.e. want to know where they are)\n",
    "* how do we incorporate errors in the line positions?\n",
    "* should we do a straight model comparison for the redshifts?\n",
    "* how do we incorporate sections of data?"
   ]
  },
  {
   "cell_type": "code",
   "execution_count": null,
   "metadata": {
    "collapsed": true
   },
   "outputs": [],
   "source": []
  }
 ],
 "metadata": {
  "kernelspec": {
   "display_name": "Python 2",
   "language": "python",
   "name": "python2"
  },
  "language_info": {
   "codemirror_mode": {
    "name": "ipython",
    "version": 2
   },
   "file_extension": ".py",
   "mimetype": "text/x-python",
   "name": "python",
   "nbconvert_exporter": "python",
   "pygments_lexer": "ipython2",
   "version": "2.7.11"
  }
 },
 "nbformat": 4,
 "nbformat_minor": 0
}
